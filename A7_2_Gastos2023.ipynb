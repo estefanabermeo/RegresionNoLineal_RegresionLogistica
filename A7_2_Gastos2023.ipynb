{
  "nbformat": 4,
  "nbformat_minor": 0,
  "metadata": {
    "colab": {
      "provenance": [],
      "authorship_tag": "ABX9TyO3FvmTSbVZHNaqNx/dWV4k",
      "include_colab_link": true
    },
    "kernelspec": {
      "name": "python3",
      "display_name": "Python 3"
    },
    "language_info": {
      "name": "python"
    }
  },
  "cells": [
    {
      "cell_type": "markdown",
      "metadata": {
        "id": "view-in-github",
        "colab_type": "text"
      },
      "source": [
        "<a href=\"https://colab.research.google.com/github/estefanabermeo/RegresionNoLineal_RegresionLogistica/blob/main/A7_2_Gastos2023.ipynb\" target=\"_parent\"><img src=\"https://colab.research.google.com/assets/colab-badge.svg\" alt=\"Open In Colab\"/></a>"
      ]
    },
    {
      "cell_type": "markdown",
      "source": [
        "# **ACTIVIDAD 7.2 REGRESIÓN LOGÍSTICA - GASTOS 2O23**\n",
        "EQUIPO 10:\n",
        "* Estefana Bermeo Severiano - A01367558\n",
        "* Miguel Saúl Fernández Ávalos - A01707491\n",
        "* Mariel Quetzali Fernández Montes - A0170779\n",
        "* Christian Jesús Soto-Vieyra Gil - A01707759\n",
        "\n",
        "---"
      ],
      "metadata": {
        "id": "XqFyb5wwIXKD"
      }
    },
    {
      "cell_type": "code",
      "execution_count": null,
      "metadata": {
        "id": "Gocda9fU_opU"
      },
      "outputs": [],
      "source": [
        "#Cargamos librerias\n",
        "import pandas as pd\n",
        "import numpy as np\n",
        "import matplotlib.pyplot as plt\n",
        "import scipy.special as special\n",
        "from scipy.optimize import curve_fit\n",
        "import seaborn as sns\n",
        "from sklearn.metrics import r2_score\n",
        "from sklearn.model_selection import train_test_split\n",
        "from sklearn.preprocessing import StandardScaler"
      ]
    },
    {
      "cell_type": "code",
      "source": [
        "# Leemos el archivo ya limpio\n",
        "gastos23 = pd.read_csv(\"gastos2023_limpio.csv\")\n",
        "gastos23.head(5)"
      ],
      "metadata": {
        "colab": {
          "base_uri": "https://localhost:8080/",
          "height": 612
        },
        "id": "S_xvrx6H_qrd",
        "outputId": "587586c3-9344-4887-ac20-170b00d98965"
      },
      "execution_count": null,
      "outputs": [
        {
          "output_type": "execute_result",
          "data": {
            "text/plain": [
              "   Unnamed: 0       Fecha   Folio                                  UUID  \\\n",
              "0           0  2023-01-01      31  49536321-60A4-523E-A32F-E8BDF5C2276E   \n",
              "1           1  2023-01-01      38  20FBB63B-D550-512F-9668-EEC6F983CEB7   \n",
              "2           2  2023-01-01  341932  DB8C4388-D4E0-4F0C-A09C-77C773257F44   \n",
              "3           3  2023-01-01  341933  A81A63F5-D5EC-4601-803E-375AF9CC5021   \n",
              "4           4  2023-01-01  342205  DCC10492-DE51-4C87-8430-5676FBF81931   \n",
              "\n",
              "            RFC                     Proveedor                TIPO GASTO  \\\n",
              "0  AAE6411055P8     AESA ARTICULOS ELECTRICOS                   COMPRAS   \n",
              "1  AAE6411055P8     AESA ARTICULOS ELECTRICOS                   COMPRAS   \n",
              "2  BLE1512082R9  BEPENSA LEASING S.A. DE C.V.  ARRENDAMIENTO FINANCIERO   \n",
              "3  BLE1512082R9  BEPENSA LEASING S.A. DE C.V.  ARRENDAMIENTO FINANCIERO   \n",
              "4  BLE1512082R9  BEPENSA LEASING S.A. DE C.V.  ARRENDAMIENTO FINANCIERO   \n",
              "\n",
              "                                         Descripción   MP    FP  ...  Importe  \\\n",
              "0                                               Pago   --    --  ...     0.00   \n",
              "1                                               Pago   --    --  ...     0.00   \n",
              "2  AA RENTA EXIGIBLE CL0000006876 30/36 de 03/12/...  PPD  99.0  ...  5551.38   \n",
              "3  AA RENTA EXIGIBLE CL0000006877 30/36 de 03/12/...  PPD  99.0  ...  5551.98   \n",
              "4  AA RENTA EXIGIBLE CL0000009486 5/48 de 03/12/2...  PPD  99.0  ...  8454.37   \n",
              "\n",
              "       IVA  RET ISR  RET IVA  Otros  TOTAL MX  TOTAL SAT  Tipo   Status  \\\n",
              "0     0.00      0.0      0.0    0.0      0.00       0.00     P  Vigente   \n",
              "1     0.00      0.0      0.0    0.0      0.00       0.00     P  Vigente   \n",
              "2   888.22      0.0      0.0    0.0   6439.60    6439.60     I  Vigente   \n",
              "3   888.32      0.0      0.0    0.0   6440.30    6440.30     I  Vigente   \n",
              "4  1352.70      0.0      0.0    0.0   9807.07    9807.07     I  Vigente   \n",
              "\n",
              "       Poliza  \n",
              "0          --  \n",
              "1          --  \n",
              "2  PE01-ENE23  \n",
              "3  PE02-ENE23  \n",
              "4  PE03-ENE23  \n",
              "\n",
              "[5 rows x 21 columns]"
            ],
            "text/html": [
              "\n",
              "  <div id=\"df-6939f518-8c50-4cba-9d8f-6bf6a9048dd0\">\n",
              "    <div class=\"colab-df-container\">\n",
              "      <div>\n",
              "<style scoped>\n",
              "    .dataframe tbody tr th:only-of-type {\n",
              "        vertical-align: middle;\n",
              "    }\n",
              "\n",
              "    .dataframe tbody tr th {\n",
              "        vertical-align: top;\n",
              "    }\n",
              "\n",
              "    .dataframe thead th {\n",
              "        text-align: right;\n",
              "    }\n",
              "</style>\n",
              "<table border=\"1\" class=\"dataframe\">\n",
              "  <thead>\n",
              "    <tr style=\"text-align: right;\">\n",
              "      <th></th>\n",
              "      <th>Unnamed: 0</th>\n",
              "      <th>Fecha</th>\n",
              "      <th>Folio</th>\n",
              "      <th>UUID</th>\n",
              "      <th>RFC</th>\n",
              "      <th>Proveedor</th>\n",
              "      <th>TIPO GASTO</th>\n",
              "      <th>Descripción</th>\n",
              "      <th>MP</th>\n",
              "      <th>FP</th>\n",
              "      <th>...</th>\n",
              "      <th>Importe</th>\n",
              "      <th>IVA</th>\n",
              "      <th>RET ISR</th>\n",
              "      <th>RET IVA</th>\n",
              "      <th>Otros</th>\n",
              "      <th>TOTAL MX</th>\n",
              "      <th>TOTAL SAT</th>\n",
              "      <th>Tipo</th>\n",
              "      <th>Status</th>\n",
              "      <th>Poliza</th>\n",
              "    </tr>\n",
              "  </thead>\n",
              "  <tbody>\n",
              "    <tr>\n",
              "      <th>0</th>\n",
              "      <td>0</td>\n",
              "      <td>2023-01-01</td>\n",
              "      <td>31</td>\n",
              "      <td>49536321-60A4-523E-A32F-E8BDF5C2276E</td>\n",
              "      <td>AAE6411055P8</td>\n",
              "      <td>AESA ARTICULOS ELECTRICOS</td>\n",
              "      <td>COMPRAS</td>\n",
              "      <td>Pago</td>\n",
              "      <td>--</td>\n",
              "      <td>--</td>\n",
              "      <td>...</td>\n",
              "      <td>0.00</td>\n",
              "      <td>0.00</td>\n",
              "      <td>0.0</td>\n",
              "      <td>0.0</td>\n",
              "      <td>0.0</td>\n",
              "      <td>0.00</td>\n",
              "      <td>0.00</td>\n",
              "      <td>P</td>\n",
              "      <td>Vigente</td>\n",
              "      <td>--</td>\n",
              "    </tr>\n",
              "    <tr>\n",
              "      <th>1</th>\n",
              "      <td>1</td>\n",
              "      <td>2023-01-01</td>\n",
              "      <td>38</td>\n",
              "      <td>20FBB63B-D550-512F-9668-EEC6F983CEB7</td>\n",
              "      <td>AAE6411055P8</td>\n",
              "      <td>AESA ARTICULOS ELECTRICOS</td>\n",
              "      <td>COMPRAS</td>\n",
              "      <td>Pago</td>\n",
              "      <td>--</td>\n",
              "      <td>--</td>\n",
              "      <td>...</td>\n",
              "      <td>0.00</td>\n",
              "      <td>0.00</td>\n",
              "      <td>0.0</td>\n",
              "      <td>0.0</td>\n",
              "      <td>0.0</td>\n",
              "      <td>0.00</td>\n",
              "      <td>0.00</td>\n",
              "      <td>P</td>\n",
              "      <td>Vigente</td>\n",
              "      <td>--</td>\n",
              "    </tr>\n",
              "    <tr>\n",
              "      <th>2</th>\n",
              "      <td>2</td>\n",
              "      <td>2023-01-01</td>\n",
              "      <td>341932</td>\n",
              "      <td>DB8C4388-D4E0-4F0C-A09C-77C773257F44</td>\n",
              "      <td>BLE1512082R9</td>\n",
              "      <td>BEPENSA LEASING S.A. DE C.V.</td>\n",
              "      <td>ARRENDAMIENTO FINANCIERO</td>\n",
              "      <td>AA RENTA EXIGIBLE CL0000006876 30/36 de 03/12/...</td>\n",
              "      <td>PPD</td>\n",
              "      <td>99.0</td>\n",
              "      <td>...</td>\n",
              "      <td>5551.38</td>\n",
              "      <td>888.22</td>\n",
              "      <td>0.0</td>\n",
              "      <td>0.0</td>\n",
              "      <td>0.0</td>\n",
              "      <td>6439.60</td>\n",
              "      <td>6439.60</td>\n",
              "      <td>I</td>\n",
              "      <td>Vigente</td>\n",
              "      <td>PE01-ENE23</td>\n",
              "    </tr>\n",
              "    <tr>\n",
              "      <th>3</th>\n",
              "      <td>3</td>\n",
              "      <td>2023-01-01</td>\n",
              "      <td>341933</td>\n",
              "      <td>A81A63F5-D5EC-4601-803E-375AF9CC5021</td>\n",
              "      <td>BLE1512082R9</td>\n",
              "      <td>BEPENSA LEASING S.A. DE C.V.</td>\n",
              "      <td>ARRENDAMIENTO FINANCIERO</td>\n",
              "      <td>AA RENTA EXIGIBLE CL0000006877 30/36 de 03/12/...</td>\n",
              "      <td>PPD</td>\n",
              "      <td>99.0</td>\n",
              "      <td>...</td>\n",
              "      <td>5551.98</td>\n",
              "      <td>888.32</td>\n",
              "      <td>0.0</td>\n",
              "      <td>0.0</td>\n",
              "      <td>0.0</td>\n",
              "      <td>6440.30</td>\n",
              "      <td>6440.30</td>\n",
              "      <td>I</td>\n",
              "      <td>Vigente</td>\n",
              "      <td>PE02-ENE23</td>\n",
              "    </tr>\n",
              "    <tr>\n",
              "      <th>4</th>\n",
              "      <td>4</td>\n",
              "      <td>2023-01-01</td>\n",
              "      <td>342205</td>\n",
              "      <td>DCC10492-DE51-4C87-8430-5676FBF81931</td>\n",
              "      <td>BLE1512082R9</td>\n",
              "      <td>BEPENSA LEASING S.A. DE C.V.</td>\n",
              "      <td>ARRENDAMIENTO FINANCIERO</td>\n",
              "      <td>AA RENTA EXIGIBLE CL0000009486 5/48 de 03/12/2...</td>\n",
              "      <td>PPD</td>\n",
              "      <td>99.0</td>\n",
              "      <td>...</td>\n",
              "      <td>8454.37</td>\n",
              "      <td>1352.70</td>\n",
              "      <td>0.0</td>\n",
              "      <td>0.0</td>\n",
              "      <td>0.0</td>\n",
              "      <td>9807.07</td>\n",
              "      <td>9807.07</td>\n",
              "      <td>I</td>\n",
              "      <td>Vigente</td>\n",
              "      <td>PE03-ENE23</td>\n",
              "    </tr>\n",
              "  </tbody>\n",
              "</table>\n",
              "<p>5 rows × 21 columns</p>\n",
              "</div>\n",
              "      <button class=\"colab-df-convert\" onclick=\"convertToInteractive('df-6939f518-8c50-4cba-9d8f-6bf6a9048dd0')\"\n",
              "              title=\"Convert this dataframe to an interactive table.\"\n",
              "              style=\"display:none;\">\n",
              "        \n",
              "  <svg xmlns=\"http://www.w3.org/2000/svg\" height=\"24px\"viewBox=\"0 0 24 24\"\n",
              "       width=\"24px\">\n",
              "    <path d=\"M0 0h24v24H0V0z\" fill=\"none\"/>\n",
              "    <path d=\"M18.56 5.44l.94 2.06.94-2.06 2.06-.94-2.06-.94-.94-2.06-.94 2.06-2.06.94zm-11 1L8.5 8.5l.94-2.06 2.06-.94-2.06-.94L8.5 2.5l-.94 2.06-2.06.94zm10 10l.94 2.06.94-2.06 2.06-.94-2.06-.94-.94-2.06-.94 2.06-2.06.94z\"/><path d=\"M17.41 7.96l-1.37-1.37c-.4-.4-.92-.59-1.43-.59-.52 0-1.04.2-1.43.59L10.3 9.45l-7.72 7.72c-.78.78-.78 2.05 0 2.83L4 21.41c.39.39.9.59 1.41.59.51 0 1.02-.2 1.41-.59l7.78-7.78 2.81-2.81c.8-.78.8-2.07 0-2.86zM5.41 20L4 18.59l7.72-7.72 1.47 1.35L5.41 20z\"/>\n",
              "  </svg>\n",
              "      </button>\n",
              "      \n",
              "  <style>\n",
              "    .colab-df-container {\n",
              "      display:flex;\n",
              "      flex-wrap:wrap;\n",
              "      gap: 12px;\n",
              "    }\n",
              "\n",
              "    .colab-df-convert {\n",
              "      background-color: #E8F0FE;\n",
              "      border: none;\n",
              "      border-radius: 50%;\n",
              "      cursor: pointer;\n",
              "      display: none;\n",
              "      fill: #1967D2;\n",
              "      height: 32px;\n",
              "      padding: 0 0 0 0;\n",
              "      width: 32px;\n",
              "    }\n",
              "\n",
              "    .colab-df-convert:hover {\n",
              "      background-color: #E2EBFA;\n",
              "      box-shadow: 0px 1px 2px rgba(60, 64, 67, 0.3), 0px 1px 3px 1px rgba(60, 64, 67, 0.15);\n",
              "      fill: #174EA6;\n",
              "    }\n",
              "\n",
              "    [theme=dark] .colab-df-convert {\n",
              "      background-color: #3B4455;\n",
              "      fill: #D2E3FC;\n",
              "    }\n",
              "\n",
              "    [theme=dark] .colab-df-convert:hover {\n",
              "      background-color: #434B5C;\n",
              "      box-shadow: 0px 1px 3px 1px rgba(0, 0, 0, 0.15);\n",
              "      filter: drop-shadow(0px 1px 2px rgba(0, 0, 0, 0.3));\n",
              "      fill: #FFFFFF;\n",
              "    }\n",
              "  </style>\n",
              "\n",
              "      <script>\n",
              "        const buttonEl =\n",
              "          document.querySelector('#df-6939f518-8c50-4cba-9d8f-6bf6a9048dd0 button.colab-df-convert');\n",
              "        buttonEl.style.display =\n",
              "          google.colab.kernel.accessAllowed ? 'block' : 'none';\n",
              "\n",
              "        async function convertToInteractive(key) {\n",
              "          const element = document.querySelector('#df-6939f518-8c50-4cba-9d8f-6bf6a9048dd0');\n",
              "          const dataTable =\n",
              "            await google.colab.kernel.invokeFunction('convertToInteractive',\n",
              "                                                     [key], {});\n",
              "          if (!dataTable) return;\n",
              "\n",
              "          const docLinkHtml = 'Like what you see? Visit the ' +\n",
              "            '<a target=\"_blank\" href=https://colab.research.google.com/notebooks/data_table.ipynb>data table notebook</a>'\n",
              "            + ' to learn more about interactive tables.';\n",
              "          element.innerHTML = '';\n",
              "          dataTable['output_type'] = 'display_data';\n",
              "          await google.colab.output.renderOutput(dataTable, element);\n",
              "          const docLink = document.createElement('div');\n",
              "          docLink.innerHTML = docLinkHtml;\n",
              "          element.appendChild(docLink);\n",
              "        }\n",
              "      </script>\n",
              "    </div>\n",
              "  </div>\n",
              "  "
            ]
          },
          "metadata": {},
          "execution_count": 77
        }
      ]
    },
    {
      "cell_type": "code",
      "source": [
        "#Verificar los valores sin repetirse de una columna\n",
        "unico = np.unique(gastos23['TIPO GASTO'])\n",
        "unico"
      ],
      "metadata": {
        "colab": {
          "base_uri": "https://localhost:8080/"
        },
        "id": "KPrGg_bUlI4I",
        "outputId": "77a9836a-8235-4edc-87e6-eef9a6a6435c"
      },
      "execution_count": null,
      "outputs": [
        {
          "output_type": "execute_result",
          "data": {
            "text/plain": [
              "array(['--', 'ALIMENTOS', 'ARRENDAMIENTO FINANCIERO', 'CAPACITACION',\n",
              "       'COMISION BANCARIA', 'COMISION MIXTA', 'COMPRAS', 'COMPRAS ',\n",
              "       'CREDITO ', 'DERECHOS', 'FLETES', 'GASOLINA', 'GERENCIA ADMON',\n",
              "       'HONORARIOS CONTABLES', 'HONORARIOS PM', 'IMSS/INFONAVIT',\n",
              "       'MAQUINARIA', 'MENSAJERIA', 'MONITOREO CAMARAS ADT', 'MTT OFICINA',\n",
              "       'MTTO COMPUTO', 'MTTO LOCAL', 'MTTO MAQUINARIA', 'MTTO OFICINA ',\n",
              "       'MTTO TRANSPORTE', 'NO DEDUCIBLE', 'PAPELERIA', 'PAQUETERIA',\n",
              "       'PUBLICIDAD', 'RENTA AUTO', 'RENTA COPIADORA', 'SEGUROS',\n",
              "       'SUELDOS DIRECCION', 'SUSCRIPCIONES', 'TELEFONO', 'UNIFORMES',\n",
              "       'VALES DESPENSA', 'VARIOS'], dtype=object)"
            ]
          },
          "metadata": {},
          "execution_count": 78
        }
      ]
    },
    {
      "cell_type": "markdown",
      "source": [
        "Convertir la variable TIPO GASTO en una variable dicotómica"
      ],
      "metadata": {
        "id": "W0hG5cqRTK0q"
      }
    },
    {
      "cell_type": "code",
      "source": [
        "#Convierto una variable a dicotómica \n",
        "gastos23['TIPO GASTO']= gastos23['TIPO GASTO'].replace(['COMPRAS '], \"COMPRAS\")"
      ],
      "metadata": {
        "id": "tjLSe4YPlRa-"
      },
      "execution_count": null,
      "outputs": []
    },
    {
      "cell_type": "code",
      "source": [
        "#Convierto una variable a dicotómica \n",
        "gastos23['TIPO GASTO']= gastos23['TIPO GASTO'].replace(['--', 'ALIMENTOS', 'ARRENDAMIENTO FINANCIERO', 'CAPACITACION',\n",
        "       'COMISION BANCARIA', 'COMISION MIXTA',\n",
        "       'CREDITO ', 'DERECHOS', 'FLETES', 'GASOLINA', 'GERENCIA ADMON',\n",
        "       'HONORARIOS CONTABLES', 'HONORARIOS PM', 'IMSS/INFONAVIT',\n",
        "       'MAQUINARIA', 'MENSAJERIA', 'MONITOREO CAMARAS ADT', 'MTT OFICINA',\n",
        "       'MTTO COMPUTO', 'MTTO LOCAL', 'MTTO MAQUINARIA', 'MTTO OFICINA ',\n",
        "       'MTTO TRANSPORTE', 'NO DEDUCIBLE', 'PAPELERIA', 'PAQUETERIA',\n",
        "       'PUBLICIDAD', 'RENTA AUTO', 'RENTA COPIADORA', 'SEGUROS',\n",
        "       'SUELDOS DIRECCION', 'SUSCRIPCIONES', 'TELEFONO', 'UNIFORMES',\n",
        "       'VALES DESPENSA', 'VARIOS'], \"OTROS GASTOS\")\n",
        "gastos23"
      ],
      "metadata": {
        "colab": {
          "base_uri": "https://localhost:8080/",
          "height": 1000
        },
        "id": "EWQigXL-TS4R",
        "outputId": "5bbfa032-e2a6-4cac-ba0d-2a35e2a3b5ab"
      },
      "execution_count": null,
      "outputs": [
        {
          "output_type": "execute_result",
          "data": {
            "text/plain": [
              "     Unnamed: 0       Fecha       Folio                                  UUID  \\\n",
              "0             0  2023-01-01          31  49536321-60A4-523E-A32F-E8BDF5C2276E   \n",
              "1             1  2023-01-01          38  20FBB63B-D550-512F-9668-EEC6F983CEB7   \n",
              "2             2  2023-01-01      341932  DB8C4388-D4E0-4F0C-A09C-77C773257F44   \n",
              "3             3  2023-01-01      341933  A81A63F5-D5EC-4601-803E-375AF9CC5021   \n",
              "4             4  2023-01-01      342205  DCC10492-DE51-4C87-8430-5676FBF81931   \n",
              "..          ...         ...         ...                                   ...   \n",
              "392         392  2023-02-01      882974  3E97C399-6747-4BCA-8436-ED4B0933DF33   \n",
              "393         393  2023-02-01      053560  B7132758-F800-4797-B1D6-CC61AFFEE444   \n",
              "394         394  2023-02-01  1092957089  D1E2DC1E-9FFB-46C6-82E4-B350B83CB6F7   \n",
              "395         395  2023-02-01     1453820  6249FE27-6FA6-4EFB-910E-3CD67A0E29A1   \n",
              "396         396  2023-02-01          18  439A9230-277E-5563-818C-7630B0E8D706   \n",
              "\n",
              "              RFC                                          Proveedor  \\\n",
              "0    AAE6411055P8                          AESA ARTICULOS ELECTRICOS   \n",
              "1    AAE6411055P8                          AESA ARTICULOS ELECTRICOS   \n",
              "2    BLE1512082R9                       BEPENSA LEASING S.A. DE C.V.   \n",
              "3    BLE1512082R9                       BEPENSA LEASING S.A. DE C.V.   \n",
              "4    BLE1512082R9                       BEPENSA LEASING S.A. DE C.V.   \n",
              "..            ...                                                ...   \n",
              "392  BIN940223KE0  BANCO INVEX, S.A., INSTITUCION DE BANCA MULTIP...   \n",
              "393  BPU7901018D4                                BEBIDAS PURIFICADAS   \n",
              "394  BMN930209927  BANCO MERCANTIL DEL NORTE SA INSTITUCION DE BA...   \n",
              "395  EFE8908015L3                      EFECTIVALE S. de R.L. de C.V.   \n",
              "396  AAE6411055P8                          AESA ARTICULOS ELECTRICOS   \n",
              "\n",
              "       TIPO GASTO                                        Descripción   MP  \\\n",
              "0         COMPRAS                                               Pago   --   \n",
              "1         COMPRAS                                               Pago   --   \n",
              "2    OTROS GASTOS  AA RENTA EXIGIBLE CL0000006876 30/36 de 03/12/...  PPD   \n",
              "3    OTROS GASTOS  AA RENTA EXIGIBLE CL0000006877 30/36 de 03/12/...  PPD   \n",
              "4    OTROS GASTOS  AA RENTA EXIGIBLE CL0000009486 5/48 de 03/12/2...  PPD   \n",
              "..            ...                                                ...  ...   \n",
              "392  OTROS GASTOS                             COMISIONES E INTERESES  PUE   \n",
              "393  OTROS GASTOS                         Epura 20 Lts Policarbonato  PUE   \n",
              "394  OTROS GASTOS                                SERVICIOS BANCARIOS  PUE   \n",
              "395  OTROS GASTOS  CONSUMOS DE COMBUSTIBLE DE MONEDEROS ELECTRONICOS  PUE   \n",
              "396       COMPRAS                                               Pago   --   \n",
              "\n",
              "       FP  ...   Importe      IVA  RET ISR  RET IVA  Otros  TOTAL MX  \\\n",
              "0      --  ...      0.00     0.00      0.0      0.0    0.0      0.00   \n",
              "1      --  ...      0.00     0.00      0.0      0.0    0.0      0.00   \n",
              "2    99.0  ...   5551.38   888.22      0.0      0.0    0.0   6439.60   \n",
              "3    99.0  ...   5551.98   888.32      0.0      0.0    0.0   6440.30   \n",
              "4    99.0  ...   8454.37  1352.70      0.0      0.0    0.0   9807.07   \n",
              "..    ...  ...       ...      ...      ...      ...    ...       ...   \n",
              "392   3.0  ...      0.00     0.00      0.0      0.0    0.0      0.00   \n",
              "393   1.0  ...    220.00     0.00      0.0      0.0    0.0    220.00   \n",
              "394   3.0  ...  18071.52   682.40      0.0      0.0    0.0  18753.92   \n",
              "395   5.0  ...  14472.32     0.00      0.0      0.0    0.0  14472.32   \n",
              "396    --  ...      0.00     0.00      0.0      0.0    0.0      0.00   \n",
              "\n",
              "     TOTAL SAT  Tipo   Status      Poliza  \n",
              "0         0.00     P  Vigente          --  \n",
              "1         0.00     P  Vigente          --  \n",
              "2      6439.60     I  Vigente  PE01-ENE23  \n",
              "3      6440.30     I  Vigente  PE02-ENE23  \n",
              "4      9807.07     I  Vigente  PE03-ENE23  \n",
              "..         ...   ...      ...         ...  \n",
              "392       0.00     I  Vigente          --  \n",
              "393     220.00     I  Vigente          --  \n",
              "394   18753.92     I  Vigente          --  \n",
              "395   14472.32     I  Vigente          --  \n",
              "396       0.00     P  Vigente          --  \n",
              "\n",
              "[397 rows x 21 columns]"
            ],
            "text/html": [
              "\n",
              "  <div id=\"df-8b8f9e85-be63-4f18-9253-991f81e97091\">\n",
              "    <div class=\"colab-df-container\">\n",
              "      <div>\n",
              "<style scoped>\n",
              "    .dataframe tbody tr th:only-of-type {\n",
              "        vertical-align: middle;\n",
              "    }\n",
              "\n",
              "    .dataframe tbody tr th {\n",
              "        vertical-align: top;\n",
              "    }\n",
              "\n",
              "    .dataframe thead th {\n",
              "        text-align: right;\n",
              "    }\n",
              "</style>\n",
              "<table border=\"1\" class=\"dataframe\">\n",
              "  <thead>\n",
              "    <tr style=\"text-align: right;\">\n",
              "      <th></th>\n",
              "      <th>Unnamed: 0</th>\n",
              "      <th>Fecha</th>\n",
              "      <th>Folio</th>\n",
              "      <th>UUID</th>\n",
              "      <th>RFC</th>\n",
              "      <th>Proveedor</th>\n",
              "      <th>TIPO GASTO</th>\n",
              "      <th>Descripción</th>\n",
              "      <th>MP</th>\n",
              "      <th>FP</th>\n",
              "      <th>...</th>\n",
              "      <th>Importe</th>\n",
              "      <th>IVA</th>\n",
              "      <th>RET ISR</th>\n",
              "      <th>RET IVA</th>\n",
              "      <th>Otros</th>\n",
              "      <th>TOTAL MX</th>\n",
              "      <th>TOTAL SAT</th>\n",
              "      <th>Tipo</th>\n",
              "      <th>Status</th>\n",
              "      <th>Poliza</th>\n",
              "    </tr>\n",
              "  </thead>\n",
              "  <tbody>\n",
              "    <tr>\n",
              "      <th>0</th>\n",
              "      <td>0</td>\n",
              "      <td>2023-01-01</td>\n",
              "      <td>31</td>\n",
              "      <td>49536321-60A4-523E-A32F-E8BDF5C2276E</td>\n",
              "      <td>AAE6411055P8</td>\n",
              "      <td>AESA ARTICULOS ELECTRICOS</td>\n",
              "      <td>COMPRAS</td>\n",
              "      <td>Pago</td>\n",
              "      <td>--</td>\n",
              "      <td>--</td>\n",
              "      <td>...</td>\n",
              "      <td>0.00</td>\n",
              "      <td>0.00</td>\n",
              "      <td>0.0</td>\n",
              "      <td>0.0</td>\n",
              "      <td>0.0</td>\n",
              "      <td>0.00</td>\n",
              "      <td>0.00</td>\n",
              "      <td>P</td>\n",
              "      <td>Vigente</td>\n",
              "      <td>--</td>\n",
              "    </tr>\n",
              "    <tr>\n",
              "      <th>1</th>\n",
              "      <td>1</td>\n",
              "      <td>2023-01-01</td>\n",
              "      <td>38</td>\n",
              "      <td>20FBB63B-D550-512F-9668-EEC6F983CEB7</td>\n",
              "      <td>AAE6411055P8</td>\n",
              "      <td>AESA ARTICULOS ELECTRICOS</td>\n",
              "      <td>COMPRAS</td>\n",
              "      <td>Pago</td>\n",
              "      <td>--</td>\n",
              "      <td>--</td>\n",
              "      <td>...</td>\n",
              "      <td>0.00</td>\n",
              "      <td>0.00</td>\n",
              "      <td>0.0</td>\n",
              "      <td>0.0</td>\n",
              "      <td>0.0</td>\n",
              "      <td>0.00</td>\n",
              "      <td>0.00</td>\n",
              "      <td>P</td>\n",
              "      <td>Vigente</td>\n",
              "      <td>--</td>\n",
              "    </tr>\n",
              "    <tr>\n",
              "      <th>2</th>\n",
              "      <td>2</td>\n",
              "      <td>2023-01-01</td>\n",
              "      <td>341932</td>\n",
              "      <td>DB8C4388-D4E0-4F0C-A09C-77C773257F44</td>\n",
              "      <td>BLE1512082R9</td>\n",
              "      <td>BEPENSA LEASING S.A. DE C.V.</td>\n",
              "      <td>OTROS GASTOS</td>\n",
              "      <td>AA RENTA EXIGIBLE CL0000006876 30/36 de 03/12/...</td>\n",
              "      <td>PPD</td>\n",
              "      <td>99.0</td>\n",
              "      <td>...</td>\n",
              "      <td>5551.38</td>\n",
              "      <td>888.22</td>\n",
              "      <td>0.0</td>\n",
              "      <td>0.0</td>\n",
              "      <td>0.0</td>\n",
              "      <td>6439.60</td>\n",
              "      <td>6439.60</td>\n",
              "      <td>I</td>\n",
              "      <td>Vigente</td>\n",
              "      <td>PE01-ENE23</td>\n",
              "    </tr>\n",
              "    <tr>\n",
              "      <th>3</th>\n",
              "      <td>3</td>\n",
              "      <td>2023-01-01</td>\n",
              "      <td>341933</td>\n",
              "      <td>A81A63F5-D5EC-4601-803E-375AF9CC5021</td>\n",
              "      <td>BLE1512082R9</td>\n",
              "      <td>BEPENSA LEASING S.A. DE C.V.</td>\n",
              "      <td>OTROS GASTOS</td>\n",
              "      <td>AA RENTA EXIGIBLE CL0000006877 30/36 de 03/12/...</td>\n",
              "      <td>PPD</td>\n",
              "      <td>99.0</td>\n",
              "      <td>...</td>\n",
              "      <td>5551.98</td>\n",
              "      <td>888.32</td>\n",
              "      <td>0.0</td>\n",
              "      <td>0.0</td>\n",
              "      <td>0.0</td>\n",
              "      <td>6440.30</td>\n",
              "      <td>6440.30</td>\n",
              "      <td>I</td>\n",
              "      <td>Vigente</td>\n",
              "      <td>PE02-ENE23</td>\n",
              "    </tr>\n",
              "    <tr>\n",
              "      <th>4</th>\n",
              "      <td>4</td>\n",
              "      <td>2023-01-01</td>\n",
              "      <td>342205</td>\n",
              "      <td>DCC10492-DE51-4C87-8430-5676FBF81931</td>\n",
              "      <td>BLE1512082R9</td>\n",
              "      <td>BEPENSA LEASING S.A. DE C.V.</td>\n",
              "      <td>OTROS GASTOS</td>\n",
              "      <td>AA RENTA EXIGIBLE CL0000009486 5/48 de 03/12/2...</td>\n",
              "      <td>PPD</td>\n",
              "      <td>99.0</td>\n",
              "      <td>...</td>\n",
              "      <td>8454.37</td>\n",
              "      <td>1352.70</td>\n",
              "      <td>0.0</td>\n",
              "      <td>0.0</td>\n",
              "      <td>0.0</td>\n",
              "      <td>9807.07</td>\n",
              "      <td>9807.07</td>\n",
              "      <td>I</td>\n",
              "      <td>Vigente</td>\n",
              "      <td>PE03-ENE23</td>\n",
              "    </tr>\n",
              "    <tr>\n",
              "      <th>...</th>\n",
              "      <td>...</td>\n",
              "      <td>...</td>\n",
              "      <td>...</td>\n",
              "      <td>...</td>\n",
              "      <td>...</td>\n",
              "      <td>...</td>\n",
              "      <td>...</td>\n",
              "      <td>...</td>\n",
              "      <td>...</td>\n",
              "      <td>...</td>\n",
              "      <td>...</td>\n",
              "      <td>...</td>\n",
              "      <td>...</td>\n",
              "      <td>...</td>\n",
              "      <td>...</td>\n",
              "      <td>...</td>\n",
              "      <td>...</td>\n",
              "      <td>...</td>\n",
              "      <td>...</td>\n",
              "      <td>...</td>\n",
              "      <td>...</td>\n",
              "    </tr>\n",
              "    <tr>\n",
              "      <th>392</th>\n",
              "      <td>392</td>\n",
              "      <td>2023-02-01</td>\n",
              "      <td>882974</td>\n",
              "      <td>3E97C399-6747-4BCA-8436-ED4B0933DF33</td>\n",
              "      <td>BIN940223KE0</td>\n",
              "      <td>BANCO INVEX, S.A., INSTITUCION DE BANCA MULTIP...</td>\n",
              "      <td>OTROS GASTOS</td>\n",
              "      <td>COMISIONES E INTERESES</td>\n",
              "      <td>PUE</td>\n",
              "      <td>3.0</td>\n",
              "      <td>...</td>\n",
              "      <td>0.00</td>\n",
              "      <td>0.00</td>\n",
              "      <td>0.0</td>\n",
              "      <td>0.0</td>\n",
              "      <td>0.0</td>\n",
              "      <td>0.00</td>\n",
              "      <td>0.00</td>\n",
              "      <td>I</td>\n",
              "      <td>Vigente</td>\n",
              "      <td>--</td>\n",
              "    </tr>\n",
              "    <tr>\n",
              "      <th>393</th>\n",
              "      <td>393</td>\n",
              "      <td>2023-02-01</td>\n",
              "      <td>053560</td>\n",
              "      <td>B7132758-F800-4797-B1D6-CC61AFFEE444</td>\n",
              "      <td>BPU7901018D4</td>\n",
              "      <td>BEBIDAS PURIFICADAS</td>\n",
              "      <td>OTROS GASTOS</td>\n",
              "      <td>Epura 20 Lts Policarbonato</td>\n",
              "      <td>PUE</td>\n",
              "      <td>1.0</td>\n",
              "      <td>...</td>\n",
              "      <td>220.00</td>\n",
              "      <td>0.00</td>\n",
              "      <td>0.0</td>\n",
              "      <td>0.0</td>\n",
              "      <td>0.0</td>\n",
              "      <td>220.00</td>\n",
              "      <td>220.00</td>\n",
              "      <td>I</td>\n",
              "      <td>Vigente</td>\n",
              "      <td>--</td>\n",
              "    </tr>\n",
              "    <tr>\n",
              "      <th>394</th>\n",
              "      <td>394</td>\n",
              "      <td>2023-02-01</td>\n",
              "      <td>1092957089</td>\n",
              "      <td>D1E2DC1E-9FFB-46C6-82E4-B350B83CB6F7</td>\n",
              "      <td>BMN930209927</td>\n",
              "      <td>BANCO MERCANTIL DEL NORTE SA INSTITUCION DE BA...</td>\n",
              "      <td>OTROS GASTOS</td>\n",
              "      <td>SERVICIOS BANCARIOS</td>\n",
              "      <td>PUE</td>\n",
              "      <td>3.0</td>\n",
              "      <td>...</td>\n",
              "      <td>18071.52</td>\n",
              "      <td>682.40</td>\n",
              "      <td>0.0</td>\n",
              "      <td>0.0</td>\n",
              "      <td>0.0</td>\n",
              "      <td>18753.92</td>\n",
              "      <td>18753.92</td>\n",
              "      <td>I</td>\n",
              "      <td>Vigente</td>\n",
              "      <td>--</td>\n",
              "    </tr>\n",
              "    <tr>\n",
              "      <th>395</th>\n",
              "      <td>395</td>\n",
              "      <td>2023-02-01</td>\n",
              "      <td>1453820</td>\n",
              "      <td>6249FE27-6FA6-4EFB-910E-3CD67A0E29A1</td>\n",
              "      <td>EFE8908015L3</td>\n",
              "      <td>EFECTIVALE S. de R.L. de C.V.</td>\n",
              "      <td>OTROS GASTOS</td>\n",
              "      <td>CONSUMOS DE COMBUSTIBLE DE MONEDEROS ELECTRONICOS</td>\n",
              "      <td>PUE</td>\n",
              "      <td>5.0</td>\n",
              "      <td>...</td>\n",
              "      <td>14472.32</td>\n",
              "      <td>0.00</td>\n",
              "      <td>0.0</td>\n",
              "      <td>0.0</td>\n",
              "      <td>0.0</td>\n",
              "      <td>14472.32</td>\n",
              "      <td>14472.32</td>\n",
              "      <td>I</td>\n",
              "      <td>Vigente</td>\n",
              "      <td>--</td>\n",
              "    </tr>\n",
              "    <tr>\n",
              "      <th>396</th>\n",
              "      <td>396</td>\n",
              "      <td>2023-02-01</td>\n",
              "      <td>18</td>\n",
              "      <td>439A9230-277E-5563-818C-7630B0E8D706</td>\n",
              "      <td>AAE6411055P8</td>\n",
              "      <td>AESA ARTICULOS ELECTRICOS</td>\n",
              "      <td>COMPRAS</td>\n",
              "      <td>Pago</td>\n",
              "      <td>--</td>\n",
              "      <td>--</td>\n",
              "      <td>...</td>\n",
              "      <td>0.00</td>\n",
              "      <td>0.00</td>\n",
              "      <td>0.0</td>\n",
              "      <td>0.0</td>\n",
              "      <td>0.0</td>\n",
              "      <td>0.00</td>\n",
              "      <td>0.00</td>\n",
              "      <td>P</td>\n",
              "      <td>Vigente</td>\n",
              "      <td>--</td>\n",
              "    </tr>\n",
              "  </tbody>\n",
              "</table>\n",
              "<p>397 rows × 21 columns</p>\n",
              "</div>\n",
              "      <button class=\"colab-df-convert\" onclick=\"convertToInteractive('df-8b8f9e85-be63-4f18-9253-991f81e97091')\"\n",
              "              title=\"Convert this dataframe to an interactive table.\"\n",
              "              style=\"display:none;\">\n",
              "        \n",
              "  <svg xmlns=\"http://www.w3.org/2000/svg\" height=\"24px\"viewBox=\"0 0 24 24\"\n",
              "       width=\"24px\">\n",
              "    <path d=\"M0 0h24v24H0V0z\" fill=\"none\"/>\n",
              "    <path d=\"M18.56 5.44l.94 2.06.94-2.06 2.06-.94-2.06-.94-.94-2.06-.94 2.06-2.06.94zm-11 1L8.5 8.5l.94-2.06 2.06-.94-2.06-.94L8.5 2.5l-.94 2.06-2.06.94zm10 10l.94 2.06.94-2.06 2.06-.94-2.06-.94-.94-2.06-.94 2.06-2.06.94z\"/><path d=\"M17.41 7.96l-1.37-1.37c-.4-.4-.92-.59-1.43-.59-.52 0-1.04.2-1.43.59L10.3 9.45l-7.72 7.72c-.78.78-.78 2.05 0 2.83L4 21.41c.39.39.9.59 1.41.59.51 0 1.02-.2 1.41-.59l7.78-7.78 2.81-2.81c.8-.78.8-2.07 0-2.86zM5.41 20L4 18.59l7.72-7.72 1.47 1.35L5.41 20z\"/>\n",
              "  </svg>\n",
              "      </button>\n",
              "      \n",
              "  <style>\n",
              "    .colab-df-container {\n",
              "      display:flex;\n",
              "      flex-wrap:wrap;\n",
              "      gap: 12px;\n",
              "    }\n",
              "\n",
              "    .colab-df-convert {\n",
              "      background-color: #E8F0FE;\n",
              "      border: none;\n",
              "      border-radius: 50%;\n",
              "      cursor: pointer;\n",
              "      display: none;\n",
              "      fill: #1967D2;\n",
              "      height: 32px;\n",
              "      padding: 0 0 0 0;\n",
              "      width: 32px;\n",
              "    }\n",
              "\n",
              "    .colab-df-convert:hover {\n",
              "      background-color: #E2EBFA;\n",
              "      box-shadow: 0px 1px 2px rgba(60, 64, 67, 0.3), 0px 1px 3px 1px rgba(60, 64, 67, 0.15);\n",
              "      fill: #174EA6;\n",
              "    }\n",
              "\n",
              "    [theme=dark] .colab-df-convert {\n",
              "      background-color: #3B4455;\n",
              "      fill: #D2E3FC;\n",
              "    }\n",
              "\n",
              "    [theme=dark] .colab-df-convert:hover {\n",
              "      background-color: #434B5C;\n",
              "      box-shadow: 0px 1px 3px 1px rgba(0, 0, 0, 0.15);\n",
              "      filter: drop-shadow(0px 1px 2px rgba(0, 0, 0, 0.3));\n",
              "      fill: #FFFFFF;\n",
              "    }\n",
              "  </style>\n",
              "\n",
              "      <script>\n",
              "        const buttonEl =\n",
              "          document.querySelector('#df-8b8f9e85-be63-4f18-9253-991f81e97091 button.colab-df-convert');\n",
              "        buttonEl.style.display =\n",
              "          google.colab.kernel.accessAllowed ? 'block' : 'none';\n",
              "\n",
              "        async function convertToInteractive(key) {\n",
              "          const element = document.querySelector('#df-8b8f9e85-be63-4f18-9253-991f81e97091');\n",
              "          const dataTable =\n",
              "            await google.colab.kernel.invokeFunction('convertToInteractive',\n",
              "                                                     [key], {});\n",
              "          if (!dataTable) return;\n",
              "\n",
              "          const docLinkHtml = 'Like what you see? Visit the ' +\n",
              "            '<a target=\"_blank\" href=https://colab.research.google.com/notebooks/data_table.ipynb>data table notebook</a>'\n",
              "            + ' to learn more about interactive tables.';\n",
              "          element.innerHTML = '';\n",
              "          dataTable['output_type'] = 'display_data';\n",
              "          await google.colab.output.renderOutput(dataTable, element);\n",
              "          const docLink = document.createElement('div');\n",
              "          docLink.innerHTML = docLinkHtml;\n",
              "          element.appendChild(docLink);\n",
              "        }\n",
              "      </script>\n",
              "    </div>\n",
              "  </div>\n",
              "  "
            ]
          },
          "metadata": {},
          "execution_count": 88
        }
      ]
    },
    {
      "cell_type": "markdown",
      "source": [
        "Analizar los siguientes casos de correlación logística"
      ],
      "metadata": {
        "id": "197RPWacYFsb"
      }
    },
    {
      "cell_type": "code",
      "source": [
        "#Declaramos las variables dependientes e independientes para la regresión Logística\n",
        "Vars_Indep= gastos23[[\"TOTAL MX\"]]\n",
        "Var_Dep= gastos23[\"TIPO GASTO\"]"
      ],
      "metadata": {
        "id": "eBxFT9uWYOTN"
      },
      "execution_count": null,
      "outputs": []
    },
    {
      "cell_type": "code",
      "source": [
        "#Redefinimos las variables \n",
        "X= Vars_Indep\n",
        "y= Var_Dep"
      ],
      "metadata": {
        "id": "6TNx8zKEYd42"
      },
      "execution_count": null,
      "outputs": []
    },
    {
      "cell_type": "code",
      "source": [
        "#Dividimos el conjunto de datos en la parte de entrenamiento y prueba:\n",
        "X_train, X_test, y_train, y_test = train_test_split(X, y, test_size=0.3, random_state =None)"
      ],
      "metadata": {
        "id": "BcFBVJHUYgsz"
      },
      "execution_count": null,
      "outputs": []
    },
    {
      "cell_type": "code",
      "source": [
        "#Se escalan todos los datos\n",
        "escalar = StandardScaler()"
      ],
      "metadata": {
        "id": "zKnPX6Y_Yiy5"
      },
      "execution_count": null,
      "outputs": []
    },
    {
      "cell_type": "code",
      "source": [
        "#Para realizar el escalamiento de las variables “X” tanto de entrenamiento como de prueba, utilizaremos fit_transform\n",
        "X_train = escalar.fit_transform(X_train)\n",
        "X_test = escalar.transform(X_test)"
      ],
      "metadata": {
        "id": "R3w701IsYlTV"
      },
      "execution_count": null,
      "outputs": []
    },
    {
      "cell_type": "code",
      "source": [
        "#Definimos el algoritmo a utilizar\n",
        "from sklearn.linear_model import LogisticRegression\n",
        "algoritmo = LogisticRegression()"
      ],
      "metadata": {
        "id": "SHmSOso5YmKQ"
      },
      "execution_count": null,
      "outputs": []
    },
    {
      "cell_type": "code",
      "source": [
        "#Entrenamos el modelo\n",
        "algoritmo.fit(X_train, y_train)"
      ],
      "metadata": {
        "colab": {
          "base_uri": "https://localhost:8080/",
          "height": 75
        },
        "id": "mK7FCsgnYoff",
        "outputId": "88d8361b-8c1c-43c7-ef69-6df0810ecba3"
      },
      "execution_count": null,
      "outputs": [
        {
          "output_type": "execute_result",
          "data": {
            "text/plain": [
              "LogisticRegression()"
            ],
            "text/html": [
              "<style>#sk-container-id-7 {color: black;background-color: white;}#sk-container-id-7 pre{padding: 0;}#sk-container-id-7 div.sk-toggleable {background-color: white;}#sk-container-id-7 label.sk-toggleable__label {cursor: pointer;display: block;width: 100%;margin-bottom: 0;padding: 0.3em;box-sizing: border-box;text-align: center;}#sk-container-id-7 label.sk-toggleable__label-arrow:before {content: \"▸\";float: left;margin-right: 0.25em;color: #696969;}#sk-container-id-7 label.sk-toggleable__label-arrow:hover:before {color: black;}#sk-container-id-7 div.sk-estimator:hover label.sk-toggleable__label-arrow:before {color: black;}#sk-container-id-7 div.sk-toggleable__content {max-height: 0;max-width: 0;overflow: hidden;text-align: left;background-color: #f0f8ff;}#sk-container-id-7 div.sk-toggleable__content pre {margin: 0.2em;color: black;border-radius: 0.25em;background-color: #f0f8ff;}#sk-container-id-7 input.sk-toggleable__control:checked~div.sk-toggleable__content {max-height: 200px;max-width: 100%;overflow: auto;}#sk-container-id-7 input.sk-toggleable__control:checked~label.sk-toggleable__label-arrow:before {content: \"▾\";}#sk-container-id-7 div.sk-estimator input.sk-toggleable__control:checked~label.sk-toggleable__label {background-color: #d4ebff;}#sk-container-id-7 div.sk-label input.sk-toggleable__control:checked~label.sk-toggleable__label {background-color: #d4ebff;}#sk-container-id-7 input.sk-hidden--visually {border: 0;clip: rect(1px 1px 1px 1px);clip: rect(1px, 1px, 1px, 1px);height: 1px;margin: -1px;overflow: hidden;padding: 0;position: absolute;width: 1px;}#sk-container-id-7 div.sk-estimator {font-family: monospace;background-color: #f0f8ff;border: 1px dotted black;border-radius: 0.25em;box-sizing: border-box;margin-bottom: 0.5em;}#sk-container-id-7 div.sk-estimator:hover {background-color: #d4ebff;}#sk-container-id-7 div.sk-parallel-item::after {content: \"\";width: 100%;border-bottom: 1px solid gray;flex-grow: 1;}#sk-container-id-7 div.sk-label:hover label.sk-toggleable__label {background-color: #d4ebff;}#sk-container-id-7 div.sk-serial::before {content: \"\";position: absolute;border-left: 1px solid gray;box-sizing: border-box;top: 0;bottom: 0;left: 50%;z-index: 0;}#sk-container-id-7 div.sk-serial {display: flex;flex-direction: column;align-items: center;background-color: white;padding-right: 0.2em;padding-left: 0.2em;position: relative;}#sk-container-id-7 div.sk-item {position: relative;z-index: 1;}#sk-container-id-7 div.sk-parallel {display: flex;align-items: stretch;justify-content: center;background-color: white;position: relative;}#sk-container-id-7 div.sk-item::before, #sk-container-id-7 div.sk-parallel-item::before {content: \"\";position: absolute;border-left: 1px solid gray;box-sizing: border-box;top: 0;bottom: 0;left: 50%;z-index: -1;}#sk-container-id-7 div.sk-parallel-item {display: flex;flex-direction: column;z-index: 1;position: relative;background-color: white;}#sk-container-id-7 div.sk-parallel-item:first-child::after {align-self: flex-end;width: 50%;}#sk-container-id-7 div.sk-parallel-item:last-child::after {align-self: flex-start;width: 50%;}#sk-container-id-7 div.sk-parallel-item:only-child::after {width: 0;}#sk-container-id-7 div.sk-dashed-wrapped {border: 1px dashed gray;margin: 0 0.4em 0.5em 0.4em;box-sizing: border-box;padding-bottom: 0.4em;background-color: white;}#sk-container-id-7 div.sk-label label {font-family: monospace;font-weight: bold;display: inline-block;line-height: 1.2em;}#sk-container-id-7 div.sk-label-container {text-align: center;}#sk-container-id-7 div.sk-container {/* jupyter's `normalize.less` sets `[hidden] { display: none; }` but bootstrap.min.css set `[hidden] { display: none !important; }` so we also need the `!important` here to be able to override the default hidden behavior on the sphinx rendered scikit-learn.org. See: https://github.com/scikit-learn/scikit-learn/issues/21755 */display: inline-block !important;position: relative;}#sk-container-id-7 div.sk-text-repr-fallback {display: none;}</style><div id=\"sk-container-id-7\" class=\"sk-top-container\"><div class=\"sk-text-repr-fallback\"><pre>LogisticRegression()</pre><b>In a Jupyter environment, please rerun this cell to show the HTML representation or trust the notebook. <br />On GitHub, the HTML representation is unable to render, please try loading this page with nbviewer.org.</b></div><div class=\"sk-container\" hidden><div class=\"sk-item\"><div class=\"sk-estimator sk-toggleable\"><input class=\"sk-toggleable__control sk-hidden--visually\" id=\"sk-estimator-id-7\" type=\"checkbox\" checked><label for=\"sk-estimator-id-7\" class=\"sk-toggleable__label sk-toggleable__label-arrow\">LogisticRegression</label><div class=\"sk-toggleable__content\"><pre>LogisticRegression()</pre></div></div></div></div></div>"
            ]
          },
          "metadata": {},
          "execution_count": 96
        }
      ]
    },
    {
      "cell_type": "code",
      "source": [
        "#Realizamos una predicción\n",
        "y_pred = algoritmo.predict(X_test) \n",
        "y_pred"
      ],
      "metadata": {
        "colab": {
          "base_uri": "https://localhost:8080/"
        },
        "id": "LclltxkaYqfE",
        "outputId": "7e59750f-493d-411a-b02c-e7d6dd20d519"
      },
      "execution_count": null,
      "outputs": [
        {
          "output_type": "execute_result",
          "data": {
            "text/plain": [
              "array(['COMPRAS', 'COMPRAS', 'COMPRAS', 'OTROS GASTOS', 'COMPRAS',\n",
              "       'COMPRAS', 'COMPRAS', 'COMPRAS', 'COMPRAS', 'COMPRAS', 'COMPRAS',\n",
              "       'COMPRAS', 'COMPRAS', 'COMPRAS', 'COMPRAS', 'COMPRAS', 'COMPRAS',\n",
              "       'OTROS GASTOS', 'COMPRAS', 'COMPRAS', 'COMPRAS', 'COMPRAS',\n",
              "       'COMPRAS', 'COMPRAS', 'COMPRAS', 'COMPRAS', 'COMPRAS', 'COMPRAS',\n",
              "       'COMPRAS', 'COMPRAS', 'COMPRAS', 'COMPRAS', 'COMPRAS', 'COMPRAS',\n",
              "       'COMPRAS', 'COMPRAS', 'COMPRAS', 'COMPRAS', 'COMPRAS', 'COMPRAS',\n",
              "       'COMPRAS', 'COMPRAS', 'COMPRAS', 'COMPRAS', 'COMPRAS', 'COMPRAS',\n",
              "       'COMPRAS', 'OTROS GASTOS', 'COMPRAS', 'COMPRAS', 'COMPRAS',\n",
              "       'COMPRAS', 'COMPRAS', 'COMPRAS', 'COMPRAS', 'OTROS GASTOS',\n",
              "       'COMPRAS', 'COMPRAS', 'COMPRAS', 'COMPRAS', 'COMPRAS', 'COMPRAS',\n",
              "       'COMPRAS', 'COMPRAS', 'COMPRAS', 'COMPRAS', 'COMPRAS', 'COMPRAS',\n",
              "       'COMPRAS', 'COMPRAS', 'COMPRAS', 'COMPRAS', 'COMPRAS', 'COMPRAS',\n",
              "       'COMPRAS', 'COMPRAS', 'COMPRAS', 'COMPRAS', 'COMPRAS', 'COMPRAS',\n",
              "       'COMPRAS', 'COMPRAS', 'COMPRAS', 'COMPRAS', 'COMPRAS', 'COMPRAS',\n",
              "       'COMPRAS', 'COMPRAS', 'OTROS GASTOS', 'COMPRAS', 'COMPRAS',\n",
              "       'COMPRAS', 'COMPRAS', 'COMPRAS', 'COMPRAS', 'COMPRAS', 'COMPRAS',\n",
              "       'COMPRAS', 'COMPRAS', 'COMPRAS', 'COMPRAS', 'COMPRAS', 'COMPRAS',\n",
              "       'COMPRAS', 'COMPRAS', 'COMPRAS', 'COMPRAS', 'COMPRAS', 'COMPRAS',\n",
              "       'COMPRAS', 'COMPRAS', 'COMPRAS', 'COMPRAS', 'COMPRAS', 'COMPRAS',\n",
              "       'COMPRAS', 'COMPRAS', 'COMPRAS', 'COMPRAS', 'COMPRAS'],\n",
              "      dtype=object)"
            ]
          },
          "metadata": {},
          "execution_count": 97
        }
      ]
    },
    {
      "cell_type": "code",
      "source": [
        "#Verifico la matriz de Confusión\n",
        "from sklearn.metrics import confusion_matrix\n",
        "matriz = confusion_matrix(y_test, y_pred)\n",
        "print('Matriz de Confusión:')\n",
        "print(matriz)"
      ],
      "metadata": {
        "colab": {
          "base_uri": "https://localhost:8080/"
        },
        "id": "hbdWV0eXYvdm",
        "outputId": "299e3ef7-12b0-4856-fab3-6a04030dab00"
      },
      "execution_count": null,
      "outputs": [
        {
          "output_type": "stream",
          "name": "stdout",
          "text": [
            "Matriz de Confusión:\n",
            "[[55  3]\n",
            " [60  2]]\n"
          ]
        }
      ]
    },
    {
      "cell_type": "code",
      "source": [
        "#Calculo la precisión del modelo - OTROS GASTOS\n",
        "from sklearn.metrics import precision_score\n",
        "\n",
        "precision = precision_score(y_test, y_pred, average=\"binary\", pos_label=\"OTROS GASTOS\")\n",
        "print('Precisión del modelo:')\n",
        "print(precision)"
      ],
      "metadata": {
        "colab": {
          "base_uri": "https://localhost:8080/"
        },
        "id": "0PW1buMIYyME",
        "outputId": "ae011af3-e128-493b-d980-013ca7b32864"
      },
      "execution_count": null,
      "outputs": [
        {
          "output_type": "stream",
          "name": "stdout",
          "text": [
            "Precisión del modelo:\n",
            "0.4\n"
          ]
        }
      ]
    },
    {
      "cell_type": "code",
      "source": [
        "#Calculo la precisión del modelo - COMPRAS\n",
        "from sklearn.metrics import precision_score\n",
        "\n",
        "precision2 = precision_score(y_test, y_pred, average=\"binary\", pos_label=\"COMPRAS\")\n",
        "print('Precisión del modelo:')\n",
        "print(precision2)"
      ],
      "metadata": {
        "colab": {
          "base_uri": "https://localhost:8080/"
        },
        "id": "zfJpXxHbe7hi",
        "outputId": "f5a08379-f6f0-4cb8-be7f-3e7c5e31627e"
      },
      "execution_count": null,
      "outputs": [
        {
          "output_type": "stream",
          "name": "stdout",
          "text": [
            "Precisión del modelo:\n",
            "0.4782608695652174\n"
          ]
        }
      ]
    },
    {
      "cell_type": "code",
      "source": [
        "#Calculo la exactitud del modelo\n",
        "from sklearn.metrics import accuracy_score\n",
        "\n",
        "exactitud = accuracy_score(y_test, y_pred)\n",
        "print('Exactitud del modelo:')\n",
        "print(exactitud)"
      ],
      "metadata": {
        "colab": {
          "base_uri": "https://localhost:8080/"
        },
        "id": "ckyPZz0WbFBu",
        "outputId": "3958a10a-61c4-4190-f34d-97711e8fc8cb"
      },
      "execution_count": null,
      "outputs": [
        {
          "output_type": "stream",
          "name": "stdout",
          "text": [
            "Exactitud del modelo:\n",
            "0.475\n"
          ]
        }
      ]
    },
    {
      "cell_type": "code",
      "source": [
        "#Calculo la sensibilidad del modelo - OTROS GASTOS\n",
        "from sklearn.metrics import recall_score\n",
        "\n",
        "sensibilidad = recall_score(y_test, y_pred, average=\"binary\", pos_label=\"OTROS GASTOS\")\n",
        "print('Sensibilidad del modelo:')\n",
        "print(sensibilidad)"
      ],
      "metadata": {
        "colab": {
          "base_uri": "https://localhost:8080/"
        },
        "id": "MkcYinPkb3cQ",
        "outputId": "23e24241-e171-424a-e9dd-ddf0258a5c9c"
      },
      "execution_count": null,
      "outputs": [
        {
          "output_type": "stream",
          "name": "stdout",
          "text": [
            "Sensibilidad del modelo:\n",
            "0.03225806451612903\n"
          ]
        }
      ]
    },
    {
      "cell_type": "code",
      "source": [
        "#Calculo la sensibilidad del modelo - COMPRAS\n",
        "from sklearn.metrics import recall_score\n",
        "\n",
        "sensibilidad2 = recall_score(y_test, y_pred, average=\"binary\", pos_label=\"COMPRAS\")\n",
        "print('Sensibilidad del modelo:')\n",
        "print(sensibilidad2)"
      ],
      "metadata": {
        "colab": {
          "base_uri": "https://localhost:8080/"
        },
        "id": "y6zjpNzzfdcH",
        "outputId": "4554e933-f569-436a-d8fb-d176be62bf54"
      },
      "execution_count": null,
      "outputs": [
        {
          "output_type": "stream",
          "name": "stdout",
          "text": [
            "Sensibilidad del modelo:\n",
            "0.9482758620689655\n"
          ]
        }
      ]
    }
  ]
}